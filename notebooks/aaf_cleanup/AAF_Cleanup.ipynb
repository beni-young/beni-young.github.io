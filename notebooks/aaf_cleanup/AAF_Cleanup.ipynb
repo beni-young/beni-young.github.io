{
 "cells": [
  {
   "attachments": {},
   "cell_type": "markdown",
   "metadata": {},
   "source": [
    "Another run through using Director Film Dataframe to see if there are new movies to add and to add IMDB id to director film list"
   ]
  },
  {
   "cell_type": "code",
   "execution_count": 4,
   "metadata": {},
   "outputs": [],
   "source": [
    "import pandas as pd\n",
    "from imdb import Cinemagoer\n",
    "import re\n",
    "import os.path\n",
    "\n",
    "ia = Cinemagoer()\n",
    "file = 'missing_directors.csv'\n",
    "check_missing_directors_file = os.path.isfile(file)\n",
    "df_director_films = pd.read_csv('imdb_movies_directors.csv', encoding= 'unicode_escape')\n",
    "df_director_names = pd.read_csv('director_names.csv', encoding='unicode_escape')"
   ]
  },
  {
   "cell_type": "code",
   "execution_count": 2,
   "metadata": {},
   "outputs": [],
   "source": [
    "for name in df_director_names.itertuples(): \n",
    "    for director in df_director_films.itertuples(): \n",
    "        if name.Name == director.Name:\n",
    "            df_director_names.at[name.Index, 'Person_ID'] = int(director.Person_ID)"
   ]
  },
  {
   "cell_type": "code",
   "execution_count": 3,
   "metadata": {},
   "outputs": [
    {
     "data": {
      "text/html": [
       "<div>\n",
       "<style scoped>\n",
       "    .dataframe tbody tr th:only-of-type {\n",
       "        vertical-align: middle;\n",
       "    }\n",
       "\n",
       "    .dataframe tbody tr th {\n",
       "        vertical-align: top;\n",
       "    }\n",
       "\n",
       "    .dataframe thead th {\n",
       "        text-align: right;\n",
       "    }\n",
       "</style>\n",
       "<table border=\"1\" class=\"dataframe\">\n",
       "  <thead>\n",
       "    <tr style=\"text-align: right;\">\n",
       "      <th></th>\n",
       "      <th>Name</th>\n",
       "      <th>wiki_link</th>\n",
       "      <th>Person_ID</th>\n",
       "    </tr>\n",
       "  </thead>\n",
       "  <tbody>\n",
       "    <tr>\n",
       "      <th>0</th>\n",
       "      <td>Abdisalam Aato</td>\n",
       "      <td>https://en.wikipedia.org/wiki/Abdisalam_Aato</td>\n",
       "      <td>0</td>\n",
       "    </tr>\n",
       "    <tr>\n",
       "      <th>1</th>\n",
       "      <td>Gay Abel-Bey</td>\n",
       "      <td>https://en.wikipedia.org/wiki/Gay_Abel-Bey</td>\n",
       "      <td>8498</td>\n",
       "    </tr>\n",
       "    <tr>\n",
       "      <th>2</th>\n",
       "      <td>Fathia Absie</td>\n",
       "      <td>https://en.wikipedia.org/wiki/Fathia_Absie</td>\n",
       "      <td>7280958</td>\n",
       "    </tr>\n",
       "    <tr>\n",
       "      <th>3</th>\n",
       "      <td>Anita W. Addison</td>\n",
       "      <td>https://en.wikipedia.org/wiki/Anita_W._Addison</td>\n",
       "      <td>11697</td>\n",
       "    </tr>\n",
       "    <tr>\n",
       "      <th>4</th>\n",
       "      <td>Omowale Akintunde</td>\n",
       "      <td>https://en.wikipedia.org/wiki/Omowale_Akintunde</td>\n",
       "      <td>0</td>\n",
       "    </tr>\n",
       "    <tr>\n",
       "      <th>...</th>\n",
       "      <td>...</td>\n",
       "      <td>...</td>\n",
       "      <td>...</td>\n",
       "    </tr>\n",
       "    <tr>\n",
       "      <th>313</th>\n",
       "      <td>Tricia Woodgett</td>\n",
       "      <td>https://en.wikipedia.org/wiki/Tricia_Woodgett</td>\n",
       "      <td>0</td>\n",
       "    </tr>\n",
       "    <tr>\n",
       "      <th>314</th>\n",
       "      <td>Bille Woodruff</td>\n",
       "      <td>https://en.wikipedia.org/wiki/Bille_Woodruff</td>\n",
       "      <td>937306</td>\n",
       "    </tr>\n",
       "    <tr>\n",
       "      <th>315</th>\n",
       "      <td>Fronza Woods</td>\n",
       "      <td>https://en.wikipedia.org/wiki/Fronza_Woods</td>\n",
       "      <td>0</td>\n",
       "    </tr>\n",
       "    <tr>\n",
       "      <th>316</th>\n",
       "      <td>Tanya Wright</td>\n",
       "      <td>https://en.wikipedia.org/wiki/Tanya_Wright</td>\n",
       "      <td>942859</td>\n",
       "    </tr>\n",
       "    <tr>\n",
       "      <th>317</th>\n",
       "      <td>Phillip Youmans</td>\n",
       "      <td>https://en.wikipedia.org/wiki/Phillip_Youmans</td>\n",
       "      <td>0</td>\n",
       "    </tr>\n",
       "  </tbody>\n",
       "</table>\n",
       "<p>318 rows × 3 columns</p>\n",
       "</div>"
      ],
      "text/plain": [
       "                  Name                                        wiki_link  \\\n",
       "0       Abdisalam Aato     https://en.wikipedia.org/wiki/Abdisalam_Aato   \n",
       "1         Gay Abel-Bey       https://en.wikipedia.org/wiki/Gay_Abel-Bey   \n",
       "2         Fathia Absie       https://en.wikipedia.org/wiki/Fathia_Absie   \n",
       "3     Anita W. Addison   https://en.wikipedia.org/wiki/Anita_W._Addison   \n",
       "4    Omowale Akintunde  https://en.wikipedia.org/wiki/Omowale_Akintunde   \n",
       "..                 ...                                              ...   \n",
       "313    Tricia Woodgett    https://en.wikipedia.org/wiki/Tricia_Woodgett   \n",
       "314     Bille Woodruff     https://en.wikipedia.org/wiki/Bille_Woodruff   \n",
       "315       Fronza Woods       https://en.wikipedia.org/wiki/Fronza_Woods   \n",
       "316       Tanya Wright       https://en.wikipedia.org/wiki/Tanya_Wright   \n",
       "317    Phillip Youmans    https://en.wikipedia.org/wiki/Phillip_Youmans   \n",
       "\n",
       "     Person_ID  \n",
       "0            0  \n",
       "1         8498  \n",
       "2      7280958  \n",
       "3        11697  \n",
       "4            0  \n",
       "..         ...  \n",
       "313          0  \n",
       "314     937306  \n",
       "315          0  \n",
       "316     942859  \n",
       "317          0  \n",
       "\n",
       "[318 rows x 3 columns]"
      ]
     },
     "execution_count": 3,
     "metadata": {},
     "output_type": "execute_result"
    }
   ],
   "source": [
    "df_director_names['Person_ID'] = df_director_names['Person_ID'].fillna(0)\n",
    "df_director_names = df_director_names.astype({\"Person_ID\": int})\n",
    "df_director_names = df_director_names.drop(\"Unnamed: 0\", axis=1)\n",
    "df_director_names.to_csv(\"director_names_imdb_person_id.csv\")\n",
    "df_director_names"
   ]
  },
  {
   "cell_type": "code",
   "execution_count": 3,
   "metadata": {},
   "outputs": [
    {
     "name": "stdout",
     "output_type": "stream",
     "text": [
      "{'biography': []}\n"
     ]
    }
   ],
   "source": [
    "#Currently as of 6/23/2023 getting biography information like birth dates is not working\n",
    "#https://github.com/cinemagoer/cinemagoer/issues/462\n",
    "person = ia.get_person('0000332', info=['biography'])\n",
    "print(person.infoset2keys)"
   ]
  },
  {
   "attachments": {},
   "cell_type": "markdown",
   "metadata": {},
   "source": [
    "Checking for directors that were not found automatically in IMDB  \n",
    "Creating a list of missing directors and then manually seeing if they have a imdb id to use to add to imdb_movies_directors.csv"
   ]
  },
  {
   "cell_type": "code",
   "execution_count": 11,
   "metadata": {},
   "outputs": [],
   "source": [
    "def imdb_search (name):\n",
    "    imdb_people_search = []\n",
    "    people = ia.search_person(name)\n",
    "    for person in people:            \n",
    "        if person['name'] == name:\n",
    "            imdb_people_search.append([person.personID, person['name']])\n",
    "    \n",
    "    if len(imdb_people_search) > 1 or not len(imdb_people_search):\n",
    "        imdb_people_search = 0\n",
    "\n",
    "    return imdb_people_search"
   ]
  },
  {
   "cell_type": "code",
   "execution_count": 6,
   "metadata": {},
   "outputs": [],
   "source": [
    "#if there isn't already a missing_directors.csv then create one\n",
    "#else take the missing_directors.csv and check to see if any directors can be added to the director_names_imdb_person_id.csv\n",
    "#also their movies added to imdb_movies_diretors to the end of that list\n",
    "if not check_missing_directors_file:\n",
    "    missing_directors_df = df_director_names.loc[df_director_names['Person_ID'] == 0]\n",
    "    missing_directors_df.to_csv(\"missing_directors.csv\")\n",
    "    missing_directors_df\n",
    "else:\n",
    "    missing_directors_df = pd.read_csv(file, encoding= 'unicode_escape')"
   ]
  },
  {
   "cell_type": "code",
   "execution_count": 8,
   "metadata": {},
   "outputs": [
    {
     "name": "stdout",
     "output_type": "stream",
     "text": [
      "[<Person id:1919862[http] name:_Mya Baker_>, <Person id:7983695[http] name:_Mya Baker_>, <Person id:1263939[http] name:_Danielle Panabaker_>, <Person id:0659048[http] name:_Kay Panabaker_>, <Person id:6803655[http] name:_Julia Maren Baker_>, <Person id:5208385[http] name:_Brianna Baker_>, <Person id:1019674[http] name:_Sala Baker_>, <Person id:1128564[http] name:_Kitana Baker_>, <Person id:10453571[http] name:_Malia Baker_>, <Person id:0000711[http] name:_Rick Baker_>, <Person id:6966400[http] name:_Stella Baker_>, <Person id:12140549[http] name:_Maya Baker_>, <Person id:4124843[http] name:_Mia Baker_>, <Person id:11325477[http] name:_Eva Brooke Baker_>, <Person id:9698063[http] name:_Ekaterina Baker_>, <Person id:1179722[http] name:_Anita Baker_>, <Person id:0851963[http] name:_Andrea Baker_>, <Person id:0672060[http] name:_D.A. Pennebaker_>, <Person id:4080841[http] name:_Lucy May Barker_>, <Person id:2531646[http] name:_Shauna Baker_>]\n",
      "Madeline Anderson\n",
      "Being Me 1975\n",
      "I Am Somebody 1970\n",
      "A Tribute to Malcolm X 1967\n",
      "Integration Report I 1960\n"
     ]
    }
   ],
   "source": [
    "missing = ia.search_person(missing_directors_df.loc[7]['Name'])\n",
    "print(missing)\n",
    "\n",
    "madeline = ia.get_person('7507414')\n",
    "print(madeline)\n",
    "\n",
    "if madeline.has_key('director'):\n",
    "    for movies in madeline['filmography']['director']:\n",
    "        year = 0000 if 'year' not in movies else int(movies['year']) \n",
    "        print(movies['title'], year)\n"
   ]
  },
  {
   "cell_type": "code",
   "execution_count": 9,
   "metadata": {},
   "outputs": [],
   "source": [
    "def update_directors_name(tmpID, tmpName):\n",
    "    for name in df_director_names.itertuples(): \n",
    "             if name.Name == tmpName:                \n",
    "                missing_directors_df.at[name.Index, 'Person_ID'] = int(tmpID)"
   ]
  },
  {
   "cell_type": "code",
   "execution_count": null,
   "metadata": {},
   "outputs": [],
   "source": [
    "for n in range(0, len(missing_directors_df.index)):\n",
    "    imdb_person = imdb_search(missing_directors_df['Name'][n])\n",
    "    if imdb_person == 0:\n",
    "        continue\n",
    "    else:\n",
    "        person = ia.get_person(imdb_person[0][0])\n",
    "        print(person)\n",
    "        if person.has_key('director'):\n",
    "            for movies in person['filmography']['director']:                \n",
    "                update_directors_name(imdb_person[0][0], imdb_person[0][1])                            \n"
   ]
  },
  {
   "cell_type": "code",
   "execution_count": 13,
   "metadata": {},
   "outputs": [],
   "source": [
    "missing_directors_df.to_csv(\"missing_directors.csv\")"
   ]
  },
  {
   "cell_type": "code",
   "execution_count": 55,
   "metadata": {},
   "outputs": [],
   "source": [
    "def wiki_imdb(imdb_id, wiki_name):\n",
    "    imdb_person = [imdb_id, wiki_name]\n",
    "    person = ia.get_person(imdb_person[0])\n",
    "    if person.has_key('director'):\n",
    "        for movies in person['filmography']['director']:\n",
    "            year = 0000 if 'year' not in movies else int(movies['year'])            \n",
    "            df_director_films.loc[len(df_director_films.index)] = [movies.movieID, movies['title'], year, imdb_person[0], imdb_person[1]]\n",
    "            update_directors_name(imdb_person[0], imdb_person[1])            "
   ]
  },
  {
   "cell_type": "code",
   "execution_count": null,
   "metadata": {},
   "outputs": [],
   "source": [
    "wiki_imdb('10555174', 'Robert Van Lierop')"
   ]
  },
  {
   "cell_type": "code",
   "execution_count": 300,
   "metadata": {},
   "outputs": [],
   "source": [
    "df_director_films.to_csv(\"Director_Movies_Clean.csv\", index=False)"
   ]
  },
  {
   "cell_type": "code",
   "execution_count": null,
   "metadata": {},
   "outputs": [],
   "source": [
    "from bs4 import BeautifulSoup\n",
    "import requests\n",
    "\n",
    "imdb_re = 'https://www.imdb.com/name/'\n",
    "total = 0\n",
    "for i in range(0, len(test_df.index)):   \n",
    "    wiki_url = \"https://en.wikipedia.org\" + test_df['wiki_link'][i]   \n",
    "    print(wiki_url)  \n",
    "    table_check = False\n",
    "\n",
    "    try:\n",
    "        result = requests.get(wiki_url)\n",
    "        result.raise_for_status()\n",
    "        doc = BeautifulSoup(result.text, \"html.parser\")\n",
    "    except Exception as e:\n",
    "        print(e)\n",
    "\n",
    "\n",
    "    imdb_id = doc.find_all(rel=\"nofollow\")\n",
    "\n",
    "    for imdb in imdb_id:        \n",
    "        if re.search(imdb_re, imdb.get('href')):            \n",
    "            # print(imdb)\n",
    "            print(imdb.text)\n",
    "            id = re.search('\\d+', imdb.get(\"href\"))\n",
    "            print(id.group())\n",
    "            wiki_imdb(id.group(), imdb.text)\n",
    "            table_check = True            \n",
    "    if not table_check:        \n",
    "        total += 1\n",
    "        print(f\"Total: {total} - There wasn't a match for {wiki_url}\")\n"
   ]
  },
  {
   "cell_type": "code",
   "execution_count": 302,
   "metadata": {},
   "outputs": [
    {
     "data": {
      "text/html": [
       "<div>\n",
       "<style scoped>\n",
       "    .dataframe tbody tr th:only-of-type {\n",
       "        vertical-align: middle;\n",
       "    }\n",
       "\n",
       "    .dataframe tbody tr th {\n",
       "        vertical-align: top;\n",
       "    }\n",
       "\n",
       "    .dataframe thead th {\n",
       "        text-align: right;\n",
       "    }\n",
       "</style>\n",
       "<table border=\"1\" class=\"dataframe\">\n",
       "  <thead>\n",
       "    <tr style=\"text-align: right;\">\n",
       "      <th></th>\n",
       "      <th>Year</th>\n",
       "    </tr>\n",
       "  </thead>\n",
       "  <tbody>\n",
       "    <tr>\n",
       "      <th>count</th>\n",
       "      <td>6611.000000</td>\n",
       "    </tr>\n",
       "    <tr>\n",
       "      <th>mean</th>\n",
       "      <td>1797.361972</td>\n",
       "    </tr>\n",
       "    <tr>\n",
       "      <th>std</th>\n",
       "      <td>601.922601</td>\n",
       "    </tr>\n",
       "    <tr>\n",
       "      <th>min</th>\n",
       "      <td>0.000000</td>\n",
       "    </tr>\n",
       "    <tr>\n",
       "      <th>25%</th>\n",
       "      <td>1977.000000</td>\n",
       "    </tr>\n",
       "    <tr>\n",
       "      <th>50%</th>\n",
       "      <td>2001.000000</td>\n",
       "    </tr>\n",
       "    <tr>\n",
       "      <th>75%</th>\n",
       "      <td>2013.000000</td>\n",
       "    </tr>\n",
       "    <tr>\n",
       "      <th>max</th>\n",
       "      <td>2027.000000</td>\n",
       "    </tr>\n",
       "  </tbody>\n",
       "</table>\n",
       "</div>"
      ],
      "text/plain": [
       "              Year\n",
       "count  6611.000000\n",
       "mean   1797.361972\n",
       "std     601.922601\n",
       "min       0.000000\n",
       "25%    1977.000000\n",
       "50%    2001.000000\n",
       "75%    2013.000000\n",
       "max    2027.000000"
      ]
     },
     "execution_count": 302,
     "metadata": {},
     "output_type": "execute_result"
    }
   ],
   "source": [
    "df_director_films.describe()"
   ]
  }
 ],
 "metadata": {
  "kernelspec": {
   "display_name": "Python 3.10.4 64-bit",
   "language": "python",
   "name": "python3"
  },
  "language_info": {
   "codemirror_mode": {
    "name": "ipython",
    "version": 3
   },
   "file_extension": ".py",
   "mimetype": "text/x-python",
   "name": "python",
   "nbconvert_exporter": "python",
   "pygments_lexer": "ipython3",
   "version": "3.10.4"
  },
  "orig_nbformat": 4,
  "vscode": {
   "interpreter": {
    "hash": "4f283105c72091a76353dc21b01dc7f03b7a16067dfb5107301ad30d44d65bd0"
   }
  }
 },
 "nbformat": 4,
 "nbformat_minor": 2
}
