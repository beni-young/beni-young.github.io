{
 "cells": [
  {
   "cell_type": "code",
   "execution_count": 213,
   "metadata": {},
   "outputs": [],
   "source": [
    "import pandas as pd\n",
    "import re\n",
    "import imdb\n",
    "import time\n",
    "\n",
    "ia = imdb.Cinemagoer()\n",
    "df_director_films = pd.read_csv('Director_Movies_Clean.csv', encoding= 'utf-8-sig')\n",
    "df_director_names = pd.read_csv('director_names.csv', encoding='unicode_escape')\n",
    "kinds = {}"
   ]
  },
  {
   "cell_type": "code",
   "execution_count": 203,
   "metadata": {},
   "outputs": [
    {
     "data": {
      "text/html": [
       "<div>\n",
       "<style scoped>\n",
       "    .dataframe tbody tr th:only-of-type {\n",
       "        vertical-align: middle;\n",
       "    }\n",
       "\n",
       "    .dataframe tbody tr th {\n",
       "        vertical-align: top;\n",
       "    }\n",
       "\n",
       "    .dataframe thead th {\n",
       "        text-align: right;\n",
       "    }\n",
       "</style>\n",
       "<table border=\"1\" class=\"dataframe\">\n",
       "  <thead>\n",
       "    <tr style=\"text-align: right;\">\n",
       "      <th></th>\n",
       "      <th>Movie_ID</th>\n",
       "      <th>Title</th>\n",
       "      <th>Year</th>\n",
       "      <th>Person_ID</th>\n",
       "      <th>Name</th>\n",
       "    </tr>\n",
       "  </thead>\n",
       "  <tbody>\n",
       "    <tr>\n",
       "      <th>0</th>\n",
       "      <td>3501074</td>\n",
       "      <td>Madam Secretary (2015-2017)</td>\n",
       "      <td>0</td>\n",
       "      <td>151</td>\n",
       "      <td>Morgan Freeman</td>\n",
       "    </tr>\n",
       "    <tr>\n",
       "      <th>1</th>\n",
       "      <td>106464</td>\n",
       "      <td>Bopha!</td>\n",
       "      <td>1993</td>\n",
       "      <td>151</td>\n",
       "      <td>Morgan Freeman</td>\n",
       "    </tr>\n",
       "    <tr>\n",
       "      <th>2</th>\n",
       "      <td>995854</td>\n",
       "      <td>A Journal for Jordan</td>\n",
       "      <td>2021</td>\n",
       "      <td>243</td>\n",
       "      <td>Denzel Washington</td>\n",
       "    </tr>\n",
       "    <tr>\n",
       "      <th>3</th>\n",
       "      <td>2671706</td>\n",
       "      <td>Fences</td>\n",
       "      <td>2016</td>\n",
       "      <td>243</td>\n",
       "      <td>Denzel Washington</td>\n",
       "    </tr>\n",
       "    <tr>\n",
       "      <th>4</th>\n",
       "      <td>413573</td>\n",
       "      <td>Grey's Anatomy</td>\n",
       "      <td>2016</td>\n",
       "      <td>243</td>\n",
       "      <td>Denzel Washington</td>\n",
       "    </tr>\n",
       "    <tr>\n",
       "      <th>...</th>\n",
       "      <td>...</td>\n",
       "      <td>...</td>\n",
       "      <td>...</td>\n",
       "      <td>...</td>\n",
       "      <td>...</td>\n",
       "    </tr>\n",
       "    <tr>\n",
       "      <th>6606</th>\n",
       "      <td>8571700</td>\n",
       "      <td>Remembrance: A Portrait Study</td>\n",
       "      <td>1967</td>\n",
       "      <td>9913311</td>\n",
       "      <td>Edward Owens</td>\n",
       "    </tr>\n",
       "    <tr>\n",
       "      <th>6607</th>\n",
       "      <td>12127402</td>\n",
       "      <td>Autrefois J'ai aime une femme</td>\n",
       "      <td>1966</td>\n",
       "      <td>9913311</td>\n",
       "      <td>Edward Owens</td>\n",
       "    </tr>\n",
       "    <tr>\n",
       "      <th>6608</th>\n",
       "      <td>12666216</td>\n",
       "      <td>Sisters of the Screen - African Women in Cinema</td>\n",
       "      <td>1966</td>\n",
       "      <td>11720380</td>\n",
       "      <td>Beti Ellerson</td>\n",
       "    </tr>\n",
       "    <tr>\n",
       "      <th>6609</th>\n",
       "      <td>12666216</td>\n",
       "      <td>Sisters of the Screen - African Women in Cinema</td>\n",
       "      <td>2002</td>\n",
       "      <td>11720380</td>\n",
       "      <td>Beti Ellerson</td>\n",
       "    </tr>\n",
       "    <tr>\n",
       "      <th>6610</th>\n",
       "      <td>10038432</td>\n",
       "      <td>A Luta Continua</td>\n",
       "      <td>1972</td>\n",
       "      <td>10555174</td>\n",
       "      <td>Robert Van Lierop</td>\n",
       "    </tr>\n",
       "  </tbody>\n",
       "</table>\n",
       "<p>6611 rows × 5 columns</p>\n",
       "</div>"
      ],
      "text/plain": [
       "      Movie_ID                                            Title  Year  \\\n",
       "0      3501074                      Madam Secretary (2015-2017)     0   \n",
       "1       106464                                           Bopha!  1993   \n",
       "2       995854                             A Journal for Jordan  2021   \n",
       "3      2671706                                           Fences  2016   \n",
       "4       413573                                   Grey's Anatomy  2016   \n",
       "...        ...                                              ...   ...   \n",
       "6606   8571700                    Remembrance: A Portrait Study  1967   \n",
       "6607  12127402                    Autrefois J'ai aime une femme  1966   \n",
       "6608  12666216  Sisters of the Screen - African Women in Cinema  1966   \n",
       "6609  12666216  Sisters of the Screen - African Women in Cinema  2002   \n",
       "6610  10038432                                  A Luta Continua  1972   \n",
       "\n",
       "      Person_ID               Name  \n",
       "0           151     Morgan Freeman  \n",
       "1           151     Morgan Freeman  \n",
       "2           243  Denzel Washington  \n",
       "3           243  Denzel Washington  \n",
       "4           243  Denzel Washington  \n",
       "...         ...                ...  \n",
       "6606    9913311       Edward Owens  \n",
       "6607    9913311       Edward Owens  \n",
       "6608   11720380      Beti Ellerson  \n",
       "6609   11720380      Beti Ellerson  \n",
       "6610   10555174  Robert Van Lierop  \n",
       "\n",
       "[6611 rows x 5 columns]"
      ]
     },
     "execution_count": 203,
     "metadata": {},
     "output_type": "execute_result"
    }
   ],
   "source": [
    "df_director_films"
   ]
  },
  {
   "cell_type": "markdown",
   "metadata": {},
   "source": [
    "Removed all Duplicates from Dataframe  "
   ]
  },
  {
   "cell_type": "code",
   "execution_count": 204,
   "metadata": {},
   "outputs": [],
   "source": [
    "df_movies = df_director_films.drop_duplicates(subset=None, keep='first', inplace=False, ignore_index=False)\n"
   ]
  },
  {
   "cell_type": "code",
   "execution_count": 187,
   "metadata": {},
   "outputs": [
    {
     "data": {
      "text/html": [
       "<div>\n",
       "<style scoped>\n",
       "    .dataframe tbody tr th:only-of-type {\n",
       "        vertical-align: middle;\n",
       "    }\n",
       "\n",
       "    .dataframe tbody tr th {\n",
       "        vertical-align: top;\n",
       "    }\n",
       "\n",
       "    .dataframe thead th {\n",
       "        text-align: right;\n",
       "    }\n",
       "</style>\n",
       "<table border=\"1\" class=\"dataframe\">\n",
       "  <thead>\n",
       "    <tr style=\"text-align: right;\">\n",
       "      <th></th>\n",
       "      <th>Movie_ID</th>\n",
       "      <th>Title</th>\n",
       "      <th>Year</th>\n",
       "      <th>Person_ID</th>\n",
       "      <th>Name</th>\n",
       "    </tr>\n",
       "  </thead>\n",
       "  <tbody>\n",
       "    <tr>\n",
       "      <th>0</th>\n",
       "      <td>3501074</td>\n",
       "      <td>Madam Secretary (2015-2017)</td>\n",
       "      <td>0</td>\n",
       "      <td>151</td>\n",
       "      <td>Morgan Freeman</td>\n",
       "    </tr>\n",
       "    <tr>\n",
       "      <th>1</th>\n",
       "      <td>106464</td>\n",
       "      <td>Bopha!</td>\n",
       "      <td>1993</td>\n",
       "      <td>151</td>\n",
       "      <td>Morgan Freeman</td>\n",
       "    </tr>\n",
       "    <tr>\n",
       "      <th>2</th>\n",
       "      <td>995854</td>\n",
       "      <td>A Journal for Jordan</td>\n",
       "      <td>2021</td>\n",
       "      <td>243</td>\n",
       "      <td>Denzel Washington</td>\n",
       "    </tr>\n",
       "    <tr>\n",
       "      <th>3</th>\n",
       "      <td>2671706</td>\n",
       "      <td>Fences</td>\n",
       "      <td>2016</td>\n",
       "      <td>243</td>\n",
       "      <td>Denzel Washington</td>\n",
       "    </tr>\n",
       "    <tr>\n",
       "      <th>4</th>\n",
       "      <td>413573</td>\n",
       "      <td>Grey's Anatomy</td>\n",
       "      <td>2016</td>\n",
       "      <td>243</td>\n",
       "      <td>Denzel Washington</td>\n",
       "    </tr>\n",
       "    <tr>\n",
       "      <th>...</th>\n",
       "      <td>...</td>\n",
       "      <td>...</td>\n",
       "      <td>...</td>\n",
       "      <td>...</td>\n",
       "      <td>...</td>\n",
       "    </tr>\n",
       "    <tr>\n",
       "      <th>6606</th>\n",
       "      <td>8571700</td>\n",
       "      <td>Remembrance: A Portrait Study</td>\n",
       "      <td>1967</td>\n",
       "      <td>9913311</td>\n",
       "      <td>Edward Owens</td>\n",
       "    </tr>\n",
       "    <tr>\n",
       "      <th>6607</th>\n",
       "      <td>12127402</td>\n",
       "      <td>Autrefois J'ai aime une femme</td>\n",
       "      <td>1966</td>\n",
       "      <td>9913311</td>\n",
       "      <td>Edward Owens</td>\n",
       "    </tr>\n",
       "    <tr>\n",
       "      <th>6608</th>\n",
       "      <td>12666216</td>\n",
       "      <td>Sisters of the Screen - African Women in Cinema</td>\n",
       "      <td>1966</td>\n",
       "      <td>11720380</td>\n",
       "      <td>Beti Ellerson</td>\n",
       "    </tr>\n",
       "    <tr>\n",
       "      <th>6609</th>\n",
       "      <td>12666216</td>\n",
       "      <td>Sisters of the Screen - African Women in Cinema</td>\n",
       "      <td>2002</td>\n",
       "      <td>11720380</td>\n",
       "      <td>Beti Ellerson</td>\n",
       "    </tr>\n",
       "    <tr>\n",
       "      <th>6610</th>\n",
       "      <td>10038432</td>\n",
       "      <td>A Luta Continua</td>\n",
       "      <td>1972</td>\n",
       "      <td>10555174</td>\n",
       "      <td>Robert Van Lierop</td>\n",
       "    </tr>\n",
       "  </tbody>\n",
       "</table>\n",
       "<p>6316 rows × 5 columns</p>\n",
       "</div>"
      ],
      "text/plain": [
       "      Movie_ID                                            Title  Year  \\\n",
       "0      3501074                      Madam Secretary (2015-2017)     0   \n",
       "1       106464                                           Bopha!  1993   \n",
       "2       995854                             A Journal for Jordan  2021   \n",
       "3      2671706                                           Fences  2016   \n",
       "4       413573                                   Grey's Anatomy  2016   \n",
       "...        ...                                              ...   ...   \n",
       "6606   8571700                    Remembrance: A Portrait Study  1967   \n",
       "6607  12127402                    Autrefois J'ai aime une femme  1966   \n",
       "6608  12666216  Sisters of the Screen - African Women in Cinema  1966   \n",
       "6609  12666216  Sisters of the Screen - African Women in Cinema  2002   \n",
       "6610  10038432                                  A Luta Continua  1972   \n",
       "\n",
       "      Person_ID               Name  \n",
       "0           151     Morgan Freeman  \n",
       "1           151     Morgan Freeman  \n",
       "2           243  Denzel Washington  \n",
       "3           243  Denzel Washington  \n",
       "4           243  Denzel Washington  \n",
       "...         ...                ...  \n",
       "6606    9913311       Edward Owens  \n",
       "6607    9913311       Edward Owens  \n",
       "6608   11720380      Beti Ellerson  \n",
       "6609   11720380      Beti Ellerson  \n",
       "6610   10555174  Robert Van Lierop  \n",
       "\n",
       "[6316 rows x 5 columns]"
      ]
     },
     "execution_count": 187,
     "metadata": {},
     "output_type": "execute_result"
    }
   ],
   "source": [
    "df_movies"
   ]
  },
  {
   "cell_type": "markdown",
   "metadata": {},
   "source": [
    "Remove all the movies with no year (possibly television shows)"
   ]
  },
  {
   "cell_type": "code",
   "execution_count": 8,
   "metadata": {},
   "outputs": [],
   "source": [
    "df_movies = df_movies[df_movies.Year != 0]"
   ]
  },
  {
   "cell_type": "code",
   "execution_count": 10,
   "metadata": {},
   "outputs": [
    {
     "data": {
      "text/html": [
       "<div>\n",
       "<style scoped>\n",
       "    .dataframe tbody tr th:only-of-type {\n",
       "        vertical-align: middle;\n",
       "    }\n",
       "\n",
       "    .dataframe tbody tr th {\n",
       "        vertical-align: top;\n",
       "    }\n",
       "\n",
       "    .dataframe thead th {\n",
       "        text-align: right;\n",
       "    }\n",
       "</style>\n",
       "<table border=\"1\" class=\"dataframe\">\n",
       "  <thead>\n",
       "    <tr style=\"text-align: right;\">\n",
       "      <th></th>\n",
       "      <th>Movie_ID</th>\n",
       "      <th>Year</th>\n",
       "      <th>Person_ID</th>\n",
       "    </tr>\n",
       "  </thead>\n",
       "  <tbody>\n",
       "    <tr>\n",
       "      <th>count</th>\n",
       "      <td>5.699000e+03</td>\n",
       "      <td>5699.000000</td>\n",
       "      <td>5.699000e+03</td>\n",
       "    </tr>\n",
       "    <tr>\n",
       "      <th>mean</th>\n",
       "      <td>4.781896e+06</td>\n",
       "      <td>1998.656431</td>\n",
       "      <td>9.356992e+05</td>\n",
       "    </tr>\n",
       "    <tr>\n",
       "      <th>std</th>\n",
       "      <td>4.761429e+06</td>\n",
       "      <td>19.859445</td>\n",
       "      <td>1.235733e+06</td>\n",
       "    </tr>\n",
       "    <tr>\n",
       "      <th>min</th>\n",
       "      <td>1.187000e+04</td>\n",
       "      <td>1919.000000</td>\n",
       "      <td>1.510000e+02</td>\n",
       "    </tr>\n",
       "    <tr>\n",
       "      <th>25%</th>\n",
       "      <td>3.851770e+05</td>\n",
       "      <td>1991.000000</td>\n",
       "      <td>2.288530e+05</td>\n",
       "    </tr>\n",
       "    <tr>\n",
       "      <th>50%</th>\n",
       "      <td>3.223890e+06</td>\n",
       "      <td>2004.000000</td>\n",
       "      <td>6.085750e+05</td>\n",
       "    </tr>\n",
       "    <tr>\n",
       "      <th>75%</th>\n",
       "      <td>8.135978e+06</td>\n",
       "      <td>2014.000000</td>\n",
       "      <td>9.373060e+05</td>\n",
       "    </tr>\n",
       "    <tr>\n",
       "      <th>max</th>\n",
       "      <td>2.107769e+07</td>\n",
       "      <td>2027.000000</td>\n",
       "      <td>1.172038e+07</td>\n",
       "    </tr>\n",
       "  </tbody>\n",
       "</table>\n",
       "</div>"
      ],
      "text/plain": [
       "           Movie_ID         Year     Person_ID\n",
       "count  5.699000e+03  5699.000000  5.699000e+03\n",
       "mean   4.781896e+06  1998.656431  9.356992e+05\n",
       "std    4.761429e+06    19.859445  1.235733e+06\n",
       "min    1.187000e+04  1919.000000  1.510000e+02\n",
       "25%    3.851770e+05  1991.000000  2.288530e+05\n",
       "50%    3.223890e+06  2004.000000  6.085750e+05\n",
       "75%    8.135978e+06  2014.000000  9.373060e+05\n",
       "max    2.107769e+07  2027.000000  1.172038e+07"
      ]
     },
     "execution_count": 10,
     "metadata": {},
     "output_type": "execute_result"
    }
   ],
   "source": [
    "df_movies.describe()"
   ]
  },
  {
   "cell_type": "code",
   "execution_count": 14,
   "metadata": {},
   "outputs": [
    {
     "data": {
      "text/html": [
       "<div>\n",
       "<style scoped>\n",
       "    .dataframe tbody tr th:only-of-type {\n",
       "        vertical-align: middle;\n",
       "    }\n",
       "\n",
       "    .dataframe tbody tr th {\n",
       "        vertical-align: top;\n",
       "    }\n",
       "\n",
       "    .dataframe thead th {\n",
       "        text-align: right;\n",
       "    }\n",
       "</style>\n",
       "<table border=\"1\" class=\"dataframe\">\n",
       "  <thead>\n",
       "    <tr style=\"text-align: right;\">\n",
       "      <th></th>\n",
       "      <th>Movie_ID</th>\n",
       "      <th>Title</th>\n",
       "      <th>Year</th>\n",
       "      <th>Person_ID</th>\n",
       "      <th>Name</th>\n",
       "    </tr>\n",
       "  </thead>\n",
       "  <tbody>\n",
       "    <tr>\n",
       "      <th>2</th>\n",
       "      <td>995854</td>\n",
       "      <td>A Journal for Jordan</td>\n",
       "      <td>2021</td>\n",
       "      <td>243</td>\n",
       "      <td>Denzel Washington</td>\n",
       "    </tr>\n",
       "    <tr>\n",
       "      <th>19</th>\n",
       "      <td>14324128</td>\n",
       "      <td>NYC Epicenters 9/11-2021ÃÂÃÂ½</td>\n",
       "      <td>2021</td>\n",
       "      <td>490</td>\n",
       "      <td>Spike Lee</td>\n",
       "    </tr>\n",
       "    <tr>\n",
       "      <th>185</th>\n",
       "      <td>13935770</td>\n",
       "      <td>Chris Rock Total Blackout: The Tamborine Exten...</td>\n",
       "      <td>2021</td>\n",
       "      <td>1674</td>\n",
       "      <td>Chris Rock</td>\n",
       "    </tr>\n",
       "    <tr>\n",
       "      <th>267</th>\n",
       "      <td>10608454</td>\n",
       "      <td>Harlem</td>\n",
       "      <td>2021</td>\n",
       "      <td>2700</td>\n",
       "      <td>Malcolm D. Lee</td>\n",
       "    </tr>\n",
       "    <tr>\n",
       "      <th>268</th>\n",
       "      <td>3554046</td>\n",
       "      <td>Space Jam: A New Legacy</td>\n",
       "      <td>2021</td>\n",
       "      <td>2700</td>\n",
       "      <td>Malcolm D. Lee</td>\n",
       "    </tr>\n",
       "    <tr>\n",
       "      <th>...</th>\n",
       "      <td>...</td>\n",
       "      <td>...</td>\n",
       "      <td>...</td>\n",
       "      <td>...</td>\n",
       "      <td>...</td>\n",
       "    </tr>\n",
       "    <tr>\n",
       "      <th>6487</th>\n",
       "      <td>12223626</td>\n",
       "      <td>Black Seeds: The History of Africans in America</td>\n",
       "      <td>2021</td>\n",
       "      <td>5679045</td>\n",
       "      <td>Bayer Mack</td>\n",
       "    </tr>\n",
       "    <tr>\n",
       "      <th>6529</th>\n",
       "      <td>8537542</td>\n",
       "      <td>Cold Blood</td>\n",
       "      <td>2021</td>\n",
       "      <td>6462306</td>\n",
       "      <td>Taylor Ri'chard</td>\n",
       "    </tr>\n",
       "    <tr>\n",
       "      <th>6541</th>\n",
       "      <td>13814666</td>\n",
       "      <td>Pursued</td>\n",
       "      <td>2021</td>\n",
       "      <td>7280958</td>\n",
       "      <td>Fathia Absie</td>\n",
       "    </tr>\n",
       "    <tr>\n",
       "      <th>6552</th>\n",
       "      <td>15596914</td>\n",
       "      <td>Voodoo</td>\n",
       "      <td>2021</td>\n",
       "      <td>7385237</td>\n",
       "      <td>Phillip Youmans</td>\n",
       "    </tr>\n",
       "    <tr>\n",
       "      <th>6604</th>\n",
       "      <td>11753636</td>\n",
       "      <td>Private Imaginings and Narrative Facts</td>\n",
       "      <td>2021</td>\n",
       "      <td>9913311</td>\n",
       "      <td>Edward Owens</td>\n",
       "    </tr>\n",
       "  </tbody>\n",
       "</table>\n",
       "<p>173 rows × 5 columns</p>\n",
       "</div>"
      ],
      "text/plain": [
       "      Movie_ID                                              Title  Year  \\\n",
       "2       995854                               A Journal for Jordan  2021   \n",
       "19    14324128                   NYC Epicenters 9/11-2021ÃÂÃÂ½  2021   \n",
       "185   13935770  Chris Rock Total Blackout: The Tamborine Exten...  2021   \n",
       "267   10608454                                             Harlem  2021   \n",
       "268    3554046                            Space Jam: A New Legacy  2021   \n",
       "...        ...                                                ...   ...   \n",
       "6487  12223626    Black Seeds: The History of Africans in America  2021   \n",
       "6529   8537542                                         Cold Blood  2021   \n",
       "6541  13814666                                            Pursued  2021   \n",
       "6552  15596914                                             Voodoo  2021   \n",
       "6604  11753636             Private Imaginings and Narrative Facts  2021   \n",
       "\n",
       "      Person_ID               Name  \n",
       "2           243  Denzel Washington  \n",
       "19          490          Spike Lee  \n",
       "185        1674         Chris Rock  \n",
       "267        2700     Malcolm D. Lee  \n",
       "268        2700     Malcolm D. Lee  \n",
       "...         ...                ...  \n",
       "6487    5679045         Bayer Mack  \n",
       "6529    6462306    Taylor Ri'chard  \n",
       "6541    7280958       Fathia Absie  \n",
       "6552    7385237    Phillip Youmans  \n",
       "6604    9913311       Edward Owens  \n",
       "\n",
       "[173 rows x 5 columns]"
      ]
     },
     "execution_count": 14,
     "metadata": {},
     "output_type": "execute_result"
    }
   ],
   "source": [
    "df_movies.loc[df_movies['Year'] == 2021]"
   ]
  },
  {
   "cell_type": "code",
   "execution_count": 18,
   "metadata": {},
   "outputs": [
    {
     "data": {
      "text/plain": [
       "<AxesSubplot:xlabel='Title', ylabel='Year'>"
      ]
     },
     "execution_count": 18,
     "metadata": {},
     "output_type": "execute_result"
    },
    {
     "name": "stderr",
     "output_type": "stream",
     "text": [
      "c:\\Users\\Andronicus\\AppData\\Local\\Programs\\Python\\Python310\\lib\\site-packages\\IPython\\core\\pylabtools.py:151: UserWarning: Glyph 131 (\\x83) missing from current font.\n",
      "  fig.canvas.print_figure(bytes_io, **kw)\n",
      "c:\\Users\\Andronicus\\AppData\\Local\\Programs\\Python\\Python310\\lib\\site-packages\\IPython\\core\\pylabtools.py:151: UserWarning: Glyph 130 (\\x82) missing from current font.\n",
      "  fig.canvas.print_figure(bytes_io, **kw)\n"
     ]
    },
    {
     "data": {
      "image/png": "[encoded data removed]",
      "text/plain": [
       "<Figure size 432x288 with 1 Axes>"
      ]
     },
     "metadata": {
      "needs_background": "light"
     },
     "output_type": "display_data"
    }
   ],
   "source": [
    "df_movies.plot(x = 'Title', y='Year', kind = 'scatter')"
   ]
  },
  {
   "cell_type": "code",
   "execution_count": 27,
   "metadata": {},
   "outputs": [
    {
     "data": {
      "image/png": "[encoded data removed]",
      "text/plain": [
       "<Figure size 432x288 with 1 Axes>"
      ]
     },
     "metadata": {
      "needs_background": "light"
     },
     "output_type": "display_data"
    }
   ],
   "source": [
    "import matplotlib.pyplot as plt\n",
    "import seaborn as sns\n",
    "\n",
    "sns.histplot(df_movies.Year, kde=True)\n",
    "plt.show()"
   ]
  },
  {
   "cell_type": "code",
   "execution_count": 30,
   "metadata": {},
   "outputs": [
    {
     "data": {
      "text/plain": [
       "count    5699.000000\n",
       "mean     1998.656431\n",
       "std        19.859445\n",
       "min      1919.000000\n",
       "25%      1991.000000\n",
       "50%      2004.000000\n",
       "75%      2014.000000\n",
       "max      2027.000000\n",
       "Name: Year, dtype: float64"
      ]
     },
     "execution_count": 30,
     "metadata": {},
     "output_type": "execute_result"
    }
   ],
   "source": [
    "df_movies['Year'].describe()"
   ]
  },
  {
   "cell_type": "code",
   "execution_count": 205,
   "metadata": {},
   "outputs": [],
   "source": [
    "def df_director_id(name: str):\n",
    "    for director in df_movies.itertuples():\n",
    "        if director.Name == name:\n",
    "            return (str(director.Person_ID).zfill(7))"
   ]
  },
  {
   "cell_type": "code",
   "execution_count": 252,
   "metadata": {},
   "outputs": [],
   "source": [
    "def movie_format(movie_id):\n",
    "    if movie_id == None:\n",
    "        return None\n",
    "    \n",
    "    if len(movie_id) > 1:\n",
    "        return ', '.join(map(str, movie_id))\n",
    "    else:\n",
    "        return ' '.join(map(str, movie_id))\n",
    "\n",
    "\n",
    "def movie_metascore(movie_id):\n",
    "    return movie_id['metascore']\n",
    "\n",
    "\n",
    "def movie_budget(movie_id):\n",
    "    box_off = movie_id.get('box office', None)\n",
    "    if box_off == None:\n",
    "        return None\n",
    "    else:\n",
    "        budget = re.search('[0-9,]*\\d', str(movie_id['box office']))\n",
    "            \n",
    "    return  budget.group(0)\n",
    "    \n",
    "#tstmovie = ia.get_movie('13972246', info=['main', 'critic_reviews', 'vote details', 'plot'])\n",
    "#print(tstmovie['box office'])\n",
    "#budget = re.search('[0-9,]*\\d', '$1') #str(tstmovie['box office']))\n",
    "#print(budget)\n",
    "#print(movie_budget(tstmovie))\n",
    "# print(movie_metascore(tstmovie))"
   ]
  },
  {
   "cell_type": "code",
   "execution_count": null,
   "metadata": {},
   "outputs": [],
   "source": [
    "df_movies['Type'] = \"\"\n",
    "df_movies['Genres'] = \"\"\n",
    "df_movies['Metascore'] = \"\"\n",
    "df_movies['Budget'] = \"\"\n",
    "df_movies['Votes'] = \"\"\n",
    "df_movies['Rating'] = \"\"\n",
    "df_movies['Runtime'] = \"\"\n",
    "df_movies"
   ]
  },
  {
   "cell_type": "code",
   "execution_count": 209,
   "metadata": {},
   "outputs": [],
   "source": [
    "df_movies = df_movies.reset_index()"
   ]
  },
  {
   "cell_type": "code",
   "execution_count": null,
   "metadata": {},
   "outputs": [],
   "source": [
    "df_movies.head(20)"
   ]
  },
  {
   "cell_type": "code",
   "execution_count": 253,
   "metadata": {},
   "outputs": [
    {
     "name": "stdout",
     "output_type": "stream",
     "text": [
      "9847438 and  Football Town: Cleveland Ohio\n",
      "6340186 and  Film 13\n"
     ]
    }
   ],
   "source": [
    "#x = 0\n",
    "for i in range (6049, 6316): #df_movies.itertuples():\n",
    "    if i % 150 == 0:\n",
    "        print(f\"{df_movies['Movie_ID'][i]} and  {df_movies['Title'][i]}\") \n",
    "        time.sleep(180) # 3 minutes\n",
    "    movie = ia.get_movie(df_movies['Movie_ID'][i], info=['main', 'critic_reviews', 'vote details', 'plot']) #ia.get_movie(df_movies['Movie_ID'][i])\n",
    "    df_movies.loc[i, 'Type']        = movie.get('kind', None)\n",
    "    df_movies.loc[i, 'Runtime']     = movie_format(movie.get('runtime', None)) #movie.get('runtime', None)\n",
    "    df_movies.loc[i, 'Rating']      = movie.get('rating', None)\n",
    "    df_movies.loc[i, 'Votes']       = movie.get('votes', None)\n",
    "    df_movies.loc[i, 'Genres']      = movie_format(movie.get('genres', None)) #str(movie.get('genres', None))\n",
    "    df_movies.loc[i, 'Metascore']   = movie.get('metascore', None)\n",
    "    df_movies.loc[i, 'Budget']      = movie_budget(movie)\n",
    "    #x +=1\n",
    "\n",
    "    #df_movies\n",
    "\n",
    "    # if x == 10:\n",
    "    #     break\n",
    "#df_movies.head(10)        "
   ]
  },
  {
   "cell_type": "code",
   "execution_count": 254,
   "metadata": {},
   "outputs": [],
   "source": [
    "df_movies.to_csv(\"Director_Movies_Analyze.csv\", encoding='utf-8-sig')"
   ]
  },
  {
   "cell_type": "code",
   "execution_count": null,
   "metadata": {},
   "outputs": [],
   "source": [
    "for Movie_ID in df_movies.columns[1:]:\n",
    "    print(df_movies[Movie_ID])"
   ]
  },
  {
   "cell_type": "code",
   "execution_count": 19,
   "metadata": {},
   "outputs": [],
   "source": [
    "spike_lee = ia.get_person('0000490')\n",
    "sidney_poitier = ia.get_person('0001627')\n",
    "tvshow = ia.get_movie('209093', info='critic_reviews')\n"
   ]
  },
  {
   "cell_type": "code",
   "execution_count": 42,
   "metadata": {},
   "outputs": [
    {
     "name": "stdout",
     "output_type": "stream",
     "text": [
      "1957-03-20  5' 7\" (1.7 m) {'birth place': 'Atlanta, Georgia, USA'} \n",
      "1927-02-20  6' 2½\" (1.89 m) {'birth place': 'Miami, Florida, USA'} \n"
     ]
    }
   ],
   "source": [
    "print(f\"{spike_lee['birth date']}  {spike_lee['height']} {spike_lee['birth info']} \")\n",
    "print(f\"{sidney_poitier['birth date']}  {sidney_poitier['height']} {sidney_poitier['birth info']} \")"
   ]
  },
  {
   "cell_type": "code",
   "execution_count": 20,
   "metadata": {},
   "outputs": [
    {
     "data": {
      "text/plain": [
       "{'critic_reviews': []}"
      ]
     },
     "execution_count": 20,
     "metadata": {},
     "output_type": "execute_result"
    }
   ],
   "source": [
    "tvshow.infoset2keys\n"
   ]
  },
  {
   "cell_type": "code",
   "execution_count": 152,
   "metadata": {},
   "outputs": [],
   "source": [
    "mv = ia.get_movie('790770', info=['main', 'critic_reviews', 'vote details', 'plot'])\n",
    "#metascore = ia.get_movie_critic_reviews('7349662')"
   ]
  },
  {
   "cell_type": "code",
   "execution_count": 404,
   "metadata": {},
   "outputs": [
    {
     "name": "stdout",
     "output_type": "stream",
     "text": [
      "{'birth place': 'USA'}\n"
     ]
    }
   ],
   "source": [
    "def person_height_ft(person_id):\n",
    "    person_height = person_id.get('height', None)\n",
    "    print(person_height)\n",
    "    if person_height == None:\n",
    "        return None\n",
    "    else:\n",
    "        meter = re.search('[0-9\\']+\\s[0-9]+.?', str(person_height))\n",
    "        height = re.search('\\([0-9]+\\.?[0-9]*', str(person_height))\n",
    "        height = str(height.group(0)).replace('(','')\n",
    "    return  meter.group(0)\n",
    "\n",
    "tstperson = ia.get_person('0002700')\n",
    "#str(director.Person_ID).zfill(7)\n",
    "#print(tstmovie['box office'])\n",
    "#budget = re.search('[0-9,]*\\d', '$1') #str(tstmovie['box office']))\n",
    "#print(budget)\n",
    "birth_list = tstperson.get('birth info', None)\n",
    "#city, state, country = str(birth_list['birth place']).split(\", \")\n",
    "\n",
    "#city, state, country = birth_list.split(',')\n",
    "#print(tstperson['mini biography'])\n",
    "#print(tstperson.get('height', None))\n",
    "print(birth_list)\n",
    "#print(f\"{city} adfsfd {state} aerrod {country}\")\n",
    "#tstperson['birth info']\n",
    "# print(movie_metascore(tstmovie))"
   ]
  },
  {
   "cell_type": "code",
   "execution_count": 348,
   "metadata": {},
   "outputs": [
    {
     "data": {
      "text/plain": [
       "{'main': ['birth info', 'headshot', 'filmography', 'imdbID', 'name'],\n",
       " 'biography': ['headshot',\n",
       "  'birth name',\n",
       "  'height',\n",
       "  'mini biography',\n",
       "  'trade mark',\n",
       "  'trivia',\n",
       "  'quotes',\n",
       "  'birth date',\n",
       "  'birth notes']}"
      ]
     },
     "execution_count": 348,
     "metadata": {},
     "output_type": "execute_result"
    }
   ],
   "source": [
    "tstperson.infoset2keys"
   ]
  },
  {
   "cell_type": "code",
   "execution_count": 403,
   "metadata": {},
   "outputs": [],
   "source": [
    "df_director_names = pd.read_csv(\"director_names_analyze.csv\", index_col=[0], encoding=\"utf-8-sig\")"
   ]
  },
  {
   "cell_type": "code",
   "execution_count": null,
   "metadata": {},
   "outputs": [],
   "source": [
    "for i in range (67, 311): #df_director_names.itertuples():\n",
    "    if df_director_names['Person_ID'][i] == 0:\n",
    "        continue\n",
    "    if i % 100 == 0:\n",
    "        print(f\"{df_director_names['Person_ID'][i]} and  {df_director_names['Name'][i]}\") \n",
    "        time.sleep(180) # 3 minutes\n",
    "    director = ia.get_person(str(df_director_names['Person_ID'][i]).zfill(7)) \n",
    "\n",
    "    person_height = director.get('height', \"\")\n",
    "    print(person_height)\n",
    "    if person_height == \"\":\n",
    "        height_m = height_ft = None\n",
    "    else:    \n",
    "        height_ft = re.search('[0-9\\']*\\s[0-9]*.?', str(person_height))\n",
    "        height_ft = height_ft.group(0)\n",
    "        height_m = re.search('\\([0-9]+\\.?[0-9]*', str(person_height))\n",
    "        height_m = str(height_m.group(0)).replace('(','')\n",
    "    \n",
    "    birth_list = tstperson.get('birth info', \"\")\n",
    "    if birth_list == \"\":\n",
    "        birth_city = birth_state = birth_country = None\n",
    "    else:\n",
    "        birth_city, birth_state, birth_country = str(birth_list['birth place']).split(\", \")\n",
    "    \n",
    "    df_director_names.loc[i, 'Birth Date']  = director.get('birth date', None)\n",
    "    df_director_names.loc[i, 'Height ft']   = height_ft\n",
    "    df_director_names.loc[i, 'Height m']    = height_m\n",
    "    df_director_names.loc[i, 'Birth City']       = birth_city\n",
    "    df_director_names.loc[i, 'Birth State']      =  birth_state\n",
    "    df_director_names.loc[i, 'Birth Country']   =  birth_country\n",
    "    df_director_names.loc[i, 'Headshot']   =  director.get('headshot', None)\n",
    "    try:\n",
    "        df_director_names.loc[i, 'Biography']   =  director.get('biography', None)\n",
    "    except:\n",
    "        df_director_names.loc[i, 'Biography'] = \"Error\"\n",
    "        print(\"test\")\n"
   ]
  },
  {
   "cell_type": "code",
   "execution_count": null,
   "metadata": {},
   "outputs": [],
   "source": [
    "df_director_names['Birth Date'] = \"\"\n",
    "df_director_names['Height ft'] = \"\"\n",
    "df_director_names['Height m'] = \"\"\n",
    "df_director_names['Birth City'] = \"\"\n",
    "df_director_names['Birth State'] = \"\"\n",
    "df_director_names['Birth Country'] = \"\"\n",
    "df_director_names['Headshot'] = \"\"\n",
    "df_director_names['Biography'] = \"\"\n",
    "df_director_names"
   ]
  },
  {
   "cell_type": "code",
   "execution_count": 407,
   "metadata": {},
   "outputs": [],
   "source": [
    "df_director_names.to_csv(\"director_names_analyze.csv\", encoding='utf-8-sig')"
   ]
  },
  {
   "cell_type": "code",
   "execution_count": 406,
   "metadata": {},
   "outputs": [],
   "source": [
    "for i in range (0, 311): #df_director_names.itertuples():\n",
    "    if df_director_names['Person_ID'][i] == 0:\n",
    "        continue\n",
    "    # if i % 100 == 0:\n",
    "    #     print(f\"{df_director_names['Person_ID'][i]} and  {df_director_names['Name'][i]}\") \n",
    "    #     time.sleep(180) # 3 minutes\n",
    "    director = ia.get_person(str(df_director_names['Person_ID'][i]).zfill(7)) \n",
    "\n",
    "    # person_height = director.get('height', \"\")\n",
    "    # print(person_height)\n",
    "    # if person_height == \"\":\n",
    "    #     height_m = height_ft = None\n",
    "    # else:    \n",
    "    #     height_ft = re.search('[0-9\\']*\\s[0-9]*.?', str(person_height))\n",
    "    #     height_ft = height_ft.group(0)\n",
    "    #     height_m = re.search('\\([0-9]+\\.?[0-9]*', str(person_height))\n",
    "    #     height_m = str(height_m.group(0)).replace('(','')\n",
    "    \n",
    "    birth_list = director.get('birth info', None)\n",
    "    if birth_list is None:\n",
    "        birth_city = birth_state = birth_country = None    \n",
    "    elif len((birth_list['birth place']).split(\", \")) == 4:\n",
    "        birth_city = None\n",
    "        birth_city, city, birth_state, birth_country = str(birth_list['birth place']).split(\", \") \n",
    "    elif len((birth_list['birth place']).split(\", \")) == 2:\n",
    "        birth_city = None\n",
    "        birth_state, birth_country = str(birth_list['birth place']).split(\", \")\n",
    "    elif len((birth_list['birth place']).split(\", \")) == 1:\n",
    "        birth_city = birth_state = None\n",
    "        birth_country = str(birth_list['birth place'])\n",
    "    else:\n",
    "        birth_city, birth_state, birth_country = str(birth_list['birth place']).split(\", \")\n",
    "        \n",
    "            #birth_city = birth_state = birth_country = \"Error\"\n",
    "    \n",
    "    # df_director_names.loc[i, 'Birth Date']  = director.get('birth date', None)\n",
    "    # df_director_names.loc[i, 'Height ft']   = height_ft\n",
    "    # df_director_names.loc[i, 'Height m']    = height_m\n",
    "    df_director_names.loc[i, 'Birth City']       = birth_city\n",
    "    df_director_names.loc[i, 'Birth State']      =  birth_state\n",
    "    df_director_names.loc[i, 'Birth Country']   =  birth_country\n",
    "    # df_director_names.loc[i, 'Headshot']   =  director.get('headshot', None)\n",
    "    # try:\n",
    "    #     df_director_names.loc[i, 'Biography']   =  director.get('biography', None)\n",
    "    # except:\n",
    "    #     df_director_names.loc[i, 'Biography'] = \"Error\"\n",
    "    #     print(\"test\")"
   ]
  }
 ],
 "metadata": {
  "kernelspec": {
   "display_name": "Python 3.10.4 64-bit",
   "language": "python",
   "name": "python3"
  },
  "language_info": {
   "codemirror_mode": {
    "name": "ipython",
    "version": 3
   },
   "file_extension": ".py",
   "mimetype": "text/x-python",
   "name": "python",
   "nbconvert_exporter": "python",
   "pygments_lexer": "ipython3",
   "version": "3.10.4"
  },
  "orig_nbformat": 4,
  "vscode": {
   "interpreter": {
    "hash": "4f283105c72091a76353dc21b01dc7f03b7a16067dfb5107301ad30d44d65bd0"
   }
  }
 },
 "nbformat": 4,
 "nbformat_minor": 2
}
